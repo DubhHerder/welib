{
 "cells": [
  {
   "cell_type": "code",
   "execution_count": null,
   "metadata": {},
   "outputs": [],
   "source": [
    "# Ipython \n",
    "import matplotlib.pyplot as plt\n",
    "from sympy.physics.vector import init_vprinting\n",
    "from IPython.core.interactiveshell import InteractiveShell\n",
    "InteractiveShell.ast_node_interactivity = \"all\"\n",
    "get_ipython().run_line_magic('matplotlib', 'inline')\n",
    "get_ipython().run_line_magic('load_ext', 'autoreload')\n",
    "get_ipython().run_line_magic('autoreload', '2')\n",
    "init_vprinting(use_latex='mathjax', pretty_print=False)\n",
    "# Sympy\n",
    "import sympy as sp\n",
    "from sympy.physics.mechanics import dynamicsymbols\n",
    "# Yams sympy\n",
    "from welib.yams.yams_sympy       import YAMSRigidBody, YAMSInertialBody, YAMSFlexibleBody\n",
    "from welib.yams.yams_sympy_model import YAMSModel"
   ]
  },
  {
   "cell_type": "markdown",
   "metadata": {},
   "source": [
    "# Inverted (rod) pendulum on a chart"
   ]
  },
  {
   "cell_type": "markdown",
   "metadata": {},
   "source": [
    " Point pendulum\n",
    " \n",
    "``` \n",
    " Coordinate system:\n",
    " \n",
    "      \n",
    "^ y     __   pendulum of mass m_p length l\n",
    "|       \\ \\   \n",
    "|        \\ \\  \n",
    "|         \\ \\~|  angle theta positive about z\n",
    "|   - c -  \\_\\|\n",
    "O-- - k - --[ C ] -------> x \n",
    "            chart of mass m_c\n",
    "           \n",
    "\n",
    " ```\n",
    " "
   ]
  },
  {
   "cell_type": "code",
   "execution_count": null,
   "metadata": {},
   "outputs": [],
   "source": [
    "mp, mc, k, c, kp, cp, l = sp.symbols('m_p, m_c, k, c, k_p, c_p, l')\n",
    "gravity = sp.symbols('g')\n",
    "J_G = sp.symbols('J_G')\n",
    "J_O = sp.symbols('J_O')\n",
    "time = dynamicsymbols._t\n",
    "x, theta = dynamicsymbols('x,theta')\n",
    "xd, thetad = dynamicsymbols('xd,thetad')\n",
    "Fx = dynamicsymbols('F_x')"
   ]
  },
  {
   "cell_type": "code",
   "execution_count": null,
   "metadata": {},
   "outputs": [],
   "source": [
    "# --- Bodies, rigid body with COG displaced by d\n",
    "ref = YAMSInertialBody('E') \n",
    "char = YAMSRigidBody('C', mass=mc, rho_G=(0,0,0))\n",
    "pend = YAMSRigidBody('P', mass=mp, rho_G=(0,l/2,0), J_G =(0,0,J_G)) # NOTE: Inertia defined at COG by default. \n",
    "bodies=[char, pend] \n",
    "# --- Connections\n",
    "ref.connectTo(char, type='Free', rel_pos=(x, 0, 0))\n",
    "char.connectTo(pend, type='Joint', rel_pos=(0, 0, 0), rot_type='Body', rot_amounts=(0,0,theta), rot_order='XYZ')\n",
    "# --- DOFs and kinetic equations\n",
    "coordinates = [x,theta]\n",
    "speeds      = [xd,thetad]\n",
    "kdeqsSubs = []\n",
    "for q,qd in zip(coordinates, speeds):\n",
    "    kdeqsSubs += [(qd, sp.diff(q, time))]\n",
    "# --- Loads\n",
    "body_loads = []\n",
    "for bdy in bodies: # gravity\n",
    "    body_loads  += [(bdy, (bdy.masscenter, bdy.mass * gravity * ref.frame.y))] # Watch out for convention here\n",
    "body_loads += [(char, (char.masscenter,  - k * x * char.frame.x - c * sp.diff(x,time) * char.frame.x))] # stiffness/damping on chard\n",
    "body_loads += [(char, (char.masscenter,  Fx * char.frame.x))] # control/exteral force\n",
    "body_loads += [(pend, (pend.frame,  -kp * theta * ref.frame.z - cp * sp.diff(theta,time) * ref.frame.z))] # stiffness/damping on pendulum\n",
    "\n",
    "\n",
    "# --- Model and equations of motions\n",
    "model = YAMSModel(ref=ref, bodies=bodies, body_loads=body_loads, \n",
    "                  coordinates=coordinates, speeds=speeds, kdeqsSubs=kdeqsSubs)\n",
    "EOM=model.to_EOM()\n",
    "print('Equations of motions')\n",
    "EOM.EOM\n",
    "EOM.mass_forcing_form()\n",
    "print('Mass matrix:')\n",
    "EOM.M\n",
    "print('Forcing term:')\n",
    "EOM.F"
   ]
  }
 ],
 "metadata": {
  "kernelspec": {
   "display_name": "Python 3 (ipykernel)",
   "language": "python",
   "name": "python3"
  },
  "language_info": {
   "codemirror_mode": {
    "name": "ipython",
    "version": 3
   },
   "file_extension": ".py",
   "mimetype": "text/x-python",
   "name": "python",
   "nbconvert_exporter": "python",
   "pygments_lexer": "ipython3",
   "version": "3.9.9"
  }
 },
 "nbformat": 4,
 "nbformat_minor": 2
}
